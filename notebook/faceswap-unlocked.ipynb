{
 "cells": [
  {
   "cell_type": "code",
   "execution_count": null,
   "id": "initial_id",
   "metadata": {
    "collapsed": true
   },
   "outputs": [],
   "source": [
    "!git clone https://github.com/thanh54833/faceswap-unlocked.git --branch master --single-branch\n",
    "%cd /content/y8e23w6s\n",
    "!python install.py --torch cuda-12.1 --onnxruntime cuda-12.1 --skip-venv"
   ]
  },
  {
   "cell_type": "code",
   "outputs": [],
   "source": [
    "!ssh-keygen -q -t rsa -N '' -f ~/.ssh/id_rsa <<<y\n",
    "!ssh-keyscan -t rsa remote.moe >> ~/.ssh/known_hosts"
   ],
   "metadata": {
    "collapsed": false
   },
   "id": "6b28e1cce245d76b"
  },
  {
   "cell_type": "code",
   "outputs": [],
   "source": [
    "%cd /content/y8e23w6s\n",
    "!python run.py --execution-providers cuda & ssh -R 80:127.0.0.1:7860 remote.moe"
   ],
   "metadata": {
    "collapsed": false
   },
   "id": "f2b640c0d5600fab"
  }
 ],
 "metadata": {
  "kernelspec": {
   "display_name": "Python 3",
   "language": "python",
   "name": "python3"
  },
  "language_info": {
   "codemirror_mode": {
    "name": "ipython",
    "version": 2
   },
   "file_extension": ".py",
   "mimetype": "text/x-python",
   "name": "python",
   "nbconvert_exporter": "python",
   "pygments_lexer": "ipython2",
   "version": "2.7.6"
  }
 },
 "nbformat": 4,
 "nbformat_minor": 5
}
